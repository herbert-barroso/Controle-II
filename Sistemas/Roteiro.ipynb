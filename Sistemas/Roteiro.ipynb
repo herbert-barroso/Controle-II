{
 "cells": [
  {
   "attachments": {},
   "cell_type": "markdown",
   "metadata": {},
   "source": [
    "# Roteiro básico de controle de sistemas"
   ]
  },
  {
   "attachments": {},
   "cell_type": "markdown",
   "metadata": {},
   "source": [
    "- Em malha aberta:\n",
    "    1. O sistema é estável?\n",
    "    2. Se estável, simule uma resposta ao degrau. Qual o overshoot, tempo de subida/acomodação e erro de regime?\n",
    "    3. Faça uma análise de pólos e zeros. Correlacione com a resposta ao degrau observada.\n",
    "    4. O sistema é controlável? E observável?"
   ]
  },
  {
   "attachments": {},
   "cell_type": "markdown",
   "metadata": {},
   "source": [
    "- Projeto de controle. \n",
    "    1. Especifique o desempenho desejado **em relação** ao de malha aberta.\n",
    "    2. Qual o overshoot/amortecimento desejado?\n",
    "    3. Qual o tempo de acomodação desejado?\n",
    "    4. Qual o erro de regime desejado?\n",
    "    5. Quantos integradores o projeto precisa?\n",
    "    6. Quais serão os pólos desejados? E o polinômio de malha?\n",
    "    7. Apresente a função de transferência ou as equações de estado do controlador"
   ]
  },
  {
   "attachments": {},
   "cell_type": "markdown",
   "metadata": {},
   "source": [
    "- Análise do resultado\n",
    "    1. Quais os pólos e zeros de malha fechada? O que esperar deles?\n",
    "    2. Simule uma resposta ao degrau: os requisitos foram atendidos?\n",
    "    3. Analise o sinal de controle: o custo é viável?\n",
    "    4. A resposta obtida é fisicamente coerente?\n",
    "    5. Simule uma ou mais perturbações. Seu projeto consegue rejeitar?\n",
    "    6. Simule incertezas no sistema. Seu projeto é robusto a elas?\n",
    "\n"
   ]
  }
 ],
 "metadata": {
  "kernelspec": {
   "display_name": "Python 3",
   "language": "python",
   "name": "python3"
  },
  "language_info": {
   "name": "python",
   "version": "3.11.1"
  },
  "orig_nbformat": 4
 },
 "nbformat": 4,
 "nbformat_minor": 2
}
