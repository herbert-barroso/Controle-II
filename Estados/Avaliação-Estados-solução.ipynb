{
 "cells": [
  {
   "attachments": {},
   "cell_type": "markdown",
   "metadata": {},
   "source": [
    "# Trabalho avaliativo - Sistemas de controle II - 2023.2\n",
    "\n",
    "**Leia com atenção as instruções abaixo**"
   ]
  },
  {
   "attachments": {},
   "cell_type": "markdown",
   "metadata": {},
   "source": [
    "*Informe na célula de código abaixo o seu número de matrícula:* \n",
    "\n",
    "***Não remova as aspas***"
   ]
  },
  {
   "cell_type": "code",
   "execution_count": 43,
   "metadata": {},
   "outputs": [],
   "source": [
    "# Informe aqui sua matrícula\n",
    "mat = '201733940007'"
   ]
  },
  {
   "attachments": {},
   "cell_type": "markdown",
   "metadata": {},
   "source": [
    "*Depois de informar os dados, execute o arquivo inteiro. Caso ocorra algum erro, peça ajuda ao professor*\n",
    "\n",
    "*Resolva as questões abaixo, **justificando** todas as respostas. Utilize markdown para escrever texto e Python para fazer as contas. O trabalho é individual*"
   ]
  },
  {
   "cell_type": "code",
   "execution_count": 44,
   "metadata": {},
   "outputs": [],
   "source": [
    "# \n",
    "# Não modifique esta célula! Você pode comprometer a sua avaliação.\n",
    "from numpy.random import RandomState\n",
    "from IPython.display import display, Math\n",
    "from sympy import symbols, sin, cos, latex\n",
    "from sympy import ImmutableMatrix as matriz\n",
    "from numpy import arange\n",
    "\n",
    "_nn = int(mat[0:4]+mat[-2:])\n",
    "_rng = RandomState(_nn)\n",
    "#_dig = arange(-9,10)\n",
    "#_dig = _dig[_dig!=0]\n",
    "#_n = _rng.randint(0,_dig.size,20)\n",
    "_n = _rng.random(size=(4,)).round(3)\n",
    "def G(): \n",
    "    s = symbols('s')\n",
    "    c = .5+0.10*_n[0]\n",
    "    d = .5+0.25*_n[1]\n",
    "    a = .2+0.15*_n[2]\n",
    "    b = 9+_n[3]\n",
    "    b0 = (b*c**2*d).round(3)\n",
    "    b1 = (a*b*c**2*d).round(3)\n",
    "    G = (b1*s+b0)/((s+c)**2*(s+d))\n",
    "    display(Math('G(s) = ' + latex(G)))"
   ]
  },
  {
   "attachments": {},
   "cell_type": "markdown",
   "metadata": {},
   "source": [
    "## 1."
   ]
  },
  {
   "attachments": {},
   "cell_type": "markdown",
   "metadata": {},
   "source": [
    "*Considere o sistema:*"
   ]
  },
  {
   "cell_type": "code",
   "execution_count": 45,
   "metadata": {},
   "outputs": [
    {
     "data": {
      "text/latex": [
       "$\\displaystyle G(s) = \\frac{0.589 s + 2.344}{\\left(s + 0.5827\\right)^{2} \\left(s + 0.73025\\right)}$"
      ],
      "text/plain": [
       "<IPython.core.display.Math object>"
      ]
     },
     "metadata": {},
     "output_type": "display_data"
    }
   ],
   "source": [
    "G()"
   ]
  },
  {
   "attachments": {},
   "cell_type": "markdown",
   "metadata": {},
   "source": [
    "1. *Faça uma análise de malha aberta: verifique estabilidade e características de resposta ao degrau unitário (25%). Opcional: analise o que aconteceria caso fosse utilizada realimentação proporcional (+10% extra)*\n",
    "\n",
    "2. *Proponha especificações de desempenho em malha fechada com base na análise de malha aberta do item 1 (20%).*\n",
    "\n",
    "3. *Projete um compensador de estados de ordem completa, de acordo com as especificações estabelecidas no item 2 e também forneça rejeição à distúrbios do tipo degrau. Justifique as escolhas de todos os pólos e apresente as funções de transferência do compensador ao final (35%).*\n",
    "\n",
    "4. *Analise e simule o sistema em malha fechada. Plote e analise os sinais de saída e de controle (20%). Opcional: faça uma análise de resposta a uma perturbação (+10% extra)*"
   ]
  },
  {
   "attachments": {},
   "cell_type": "markdown",
   "metadata": {},
   "source": [
    "# QUESTÃO 1"
   ]
  },
  {
   "cell_type": "code",
   "execution_count": 46,
   "metadata": {},
   "outputs": [
    {
     "name": "stdout",
     "output_type": "stream",
     "text": [
      "Denominador Expandido:  [1.         1.91565    1.21693164 0.25653193]\n",
      "\n"
     ]
    }
   ],
   "source": [
    "import control as ct\n",
    "import numpy as np\n",
    "from matplotlib import pyplot as plt\n",
    "\n",
    "# Expandindo o denominador\n",
    "den = np.poly([-0.5927, -0.5927,-0.73025])\n",
    "print(\"Denominador Expandido: \", den)\n",
    "print()"
   ]
  },
  {
   "attachments": {},
   "cell_type": "markdown",
   "metadata": {},
   "source": [
    "Criando a Função de Transferência"
   ]
  },
  {
   "cell_type": "code",
   "execution_count": 47,
   "metadata": {},
   "outputs": [
    {
     "name": "stdout",
     "output_type": "stream",
     "text": [
      "\n",
      "         0.589 s + 2.344\n",
      "----------------------------------\n",
      "s^3 + 1.916 s^2 + 1.217 s + 0.2565\n",
      "\n"
     ]
    }
   ],
   "source": [
    "num = np.array([0.589, 2.344])\n",
    "\n",
    "GS = ct.tf(num, den)\n",
    "print(GS)"
   ]
  },
  {
   "attachments": {},
   "cell_type": "markdown",
   "metadata": {},
   "source": [
    "Verificando da Estabiblidade do sistema"
   ]
  },
  {
   "cell_type": "code",
   "execution_count": 48,
   "metadata": {},
   "outputs": [
    {
     "name": "stdout",
     "output_type": "stream",
     "text": [
      "_____Eigenvalue______ Damping___ Frequency_\n",
      "   -0.7302                     1     0.7302\n",
      "   -0.5927                     1     0.5927\n",
      "   -0.5927                     1     0.5927\n"
     ]
    }
   ],
   "source": [
    "ct.damp(GS);"
   ]
  },
  {
   "attachments": {},
   "cell_type": "markdown",
   "metadata": {},
   "source": [
    "Os pólos da sistema se encontram no lado esquerdo do plano complexo, ou seja, o sistema é estável."
   ]
  },
  {
   "attachments": {},
   "cell_type": "markdown",
   "metadata": {},
   "source": [
    "#### Aplicando um degrau unitário na entrada\n",
    "\n",
    "Simulação do sistema em malha aberta"
   ]
  },
  {
   "cell_type": "code",
   "execution_count": 49,
   "metadata": {},
   "outputs": [
    {
     "data": {
      "image/png": "[encoded data removed]",
      "text/plain": [
       "<Figure size 640x480 with 1 Axes>"
      ]
     },
     "metadata": {},
     "output_type": "display_data"
    },
    {
     "name": "stdout",
     "output_type": "stream",
     "text": [
      "Dados da simulação\n"
     ]
    },
    {
     "data": {
      "text/plain": [
       "{'RiseTime': 6.710296620888371,\n",
       " 'SettlingTime': nan,\n",
       " 'SettlingMin': 8.253327969219521,\n",
       " 'SettlingMax': 9.137264298758963,\n",
       " 'Overshoot': 0,\n",
       " 'Undershoot': 0,\n",
       " 'Peak': 8.953584186051225,\n",
       " 'PeakTime': 11.654725709964012,\n",
       " 'SteadyStateValue': 9.137264298758963}"
      ]
     },
     "execution_count": 49,
     "metadata": {},
     "output_type": "execute_result"
    }
   ],
   "source": [
    "t, y = ct.step_response(GS, 20)\n",
    "plt.plot(t, y)\n",
    "plt.xlabel(\"Tempo s\")\n",
    "plt.ylabel(\"Amplitude\")\n",
    "plt.grid()\n",
    "plt.show()\n",
    "\n",
    "print(\"Dados da simulação\")\n",
    "ct.step_info(GS)\n"
   ]
  },
  {
   "attachments": {},
   "cell_type": "markdown",
   "metadata": {},
   "source": [
    "O sistema em malha aberta se comporta de forma estável como foi observado anteriormente, além disso tem Sobresinal igual a zero.\n",
    "\n"
   ]
  },
  {
   "attachments": {},
   "cell_type": "markdown",
   "metadata": {},
   "source": [
    "### Realimentação com Controle Proporcional\n"
   ]
  },
  {
   "cell_type": "code",
   "execution_count": 50,
   "metadata": {},
   "outputs": [
    {
     "data": {
      "image/png": "[encoded data removed]",
      "text/plain": [
       "<Figure size 640x480 with 1 Axes>"
      ]
     },
     "metadata": {},
     "output_type": "display_data"
    },
    {
     "name": "stdout",
     "output_type": "stream",
     "text": [
      "_____Eigenvalue______ Damping___ Frequency_\n",
      "    -2.125                     1      2.125\n",
      "    0.1048    +1.849j    -0.0566      1.852\n",
      "    0.1048    -1.849j    -0.0566      1.852\n"
     ]
    }
   ],
   "source": [
    "C = 3\n",
    "H_malha_direta = C*GS\n",
    "H_malha_fechada = ct.feedback(H_malha_direta, 1, -1)\n",
    "t1, y1 = ct.step_response(H_malha_fechada, T=70)\n",
    "plt.plot(t1, y1)\n",
    "plt.xlabel(\"Tempo s\")\n",
    "plt.ylabel(\"Amplitude\")\n",
    "plt.grid()\n",
    "plt.show()\n",
    "\n",
    "ct.damp(H_malha_fechada);"
   ]
  },
  {
   "attachments": {},
   "cell_type": "markdown",
   "metadata": {},
   "source": [
    "Aplicando o controlador P vemos que o sistema se torna instável, podemos confirma essa afirmação ao olhar para o gráfico ou para os pólos do sistema, que agora estão no semi-plano direito do plano complexo."
   ]
  },
  {
   "attachments": {},
   "cell_type": "markdown",
   "metadata": {},
   "source": [
    "\n",
    "\n",
    "# QUESTÃO 2\n",
    "\n",
    "Para o projeto será considerado as seguintes speficifações:\n",
    "\n",
    "> Sobrecinal $\\le 10\\%$\\\n",
    "> Frequência natural: $w_n = 5w_{malha Aberta}$\n",
    "\n",
    "$w_{malha Aberta}$ será o valor do polo mas dominante"
   ]
  },
  {
   "cell_type": "code",
   "execution_count": 51,
   "metadata": {},
   "outputs": [
    {
     "data": {
      "text/latex": [
       "$\\xi = 0.5911550337988976$"
      ],
      "text/plain": [
       "<IPython.core.display.Latex object>"
      ]
     },
     "metadata": {},
     "output_type": "display_data"
    },
    {
     "data": {
      "text/latex": [
       "$p_{1,2} = -1.7519\\pm 2.3902j$"
      ],
      "text/plain": [
       "<IPython.core.display.Latex object>"
      ]
     },
     "metadata": {},
     "output_type": "display_data"
    }
   ],
   "source": [
    "from IPython.display import display, Latex\n",
    "\n",
    "wn = 5*0.5927; Up = 10\n",
    "xi = (-np.log(Up/100))/(np.sqrt(np.pi**2+np.log(Up/100)**2))\n",
    "display(Latex(f\"$\\\\xi = {xi}$\"))\n",
    "\n",
    "p = -xi*wn+1j*wn*np.sqrt(1-xi**2)\n",
    "display(Latex(f\"$p_{{1,2}} = {np.real(p):.4f}\\pm {np.imag(p):.4f}j$\"))"
   ]
  },
  {
   "attachments": {},
   "cell_type": "markdown",
   "metadata": {},
   "source": [
    "O sistema é de 3a ordem. Com o integrador ficará de 4a (antes do observador). Então, além dos dominantes, precisamos alocar mais dois polos. Vamos colocar um em cima do zero, para cancelar, e outro arbitrário real, 4x maior que a parte real do dominante."
   ]
  },
  {
   "cell_type": "code",
   "execution_count": 52,
   "metadata": {},
   "outputs": [
    {
     "name": "stdout",
     "output_type": "stream",
     "text": [
      "[(-1.7518879426630327+2.3902344835500733j), (-1.7518879426630327-2.3902344835500733j), (-3.9796264855687604+0j), -7.007551770652131]\n",
      "[  1.          14.49095414  75.1663811  194.2043849  244.91675161]\n"
     ]
    }
   ],
   "source": [
    "polos_desejados = [p,np.conjugate(p),ct.zeros(GS)[0],4*np.real(p)]\n",
    "print(polos_desejados)\n",
    "poli_mf = np.poly(polos_desejados)\n",
    "print(poli_mf)"
   ]
  },
  {
   "attachments": {},
   "cell_type": "markdown",
   "metadata": {},
   "source": [
    "# QUESTÃO 3"
   ]
  },
  {
   "attachments": {},
   "cell_type": "markdown",
   "metadata": {},
   "source": [
    "Então o polinômio desejado é:\n",
    "$$\n",
    "\\begin{align}\n",
    "    \\alpha(s) &=s^4 + 14.49s^3 + 75.16s^2 + 194.20s + 244.91\n",
    "\\end{align}\n",
    "$$\n",
    "\n",
    "Vamos agora definir o sistema no espaço de estados usando FCC"
   ]
  },
  {
   "cell_type": "code",
   "execution_count": 71,
   "metadata": {},
   "outputs": [
    {
     "name": "stdout",
     "output_type": "stream",
     "text": [
      "\n",
      "Matriz F\n",
      "[[-1.91565    -1.21693164 -0.25653193]\n",
      " [ 1.          0.          0.        ]\n",
      " [ 0.          1.          0.        ]]\n",
      "\n",
      "Matriz G\n",
      "[[1.]\n",
      " [0.]\n",
      " [0.]]\n",
      "\n",
      "Matriz H\n",
      "[[0.    0.589 2.344]]\n",
      "\n",
      "Valor de J\n",
      "0\n"
     ]
    }
   ],
   "source": [
    "F = np.block([[-den[1:]],[np.eye(2), np.zeros((2,1))]])\n",
    "G = np.block([[1],[np.zeros((2,1))]])\n",
    "H = np.block([[0,num]])\n",
    "J = 0\n",
    "n = F.shape[0]\n",
    "\n",
    "print(\"\\nMatriz F\")\n",
    "print(F)\n",
    "print(\"\\nMatriz G\")\n",
    "print(G)\n",
    "print(\"\\nMatriz H\")\n",
    "print(H)\n",
    "print(\"\\nValor de J\")\n",
    "print(J)"
   ]
  },
  {
   "attachments": {},
   "cell_type": "markdown",
   "metadata": {},
   "source": [
    "Agora, aumentar as matrizes para o projeto com integrador:"
   ]
  },
  {
   "cell_type": "code",
   "execution_count": 72,
   "metadata": {},
   "outputs": [
    {
     "name": "stdout",
     "output_type": "stream",
     "text": [
      "\n",
      "Matriz Fa\n",
      "[[-1.91565    -1.21693164 -0.25653193  0.        ]\n",
      " [ 1.          0.          0.          0.        ]\n",
      " [ 0.          1.          0.          0.        ]\n",
      " [-0.         -0.589      -2.344       0.        ]]\n",
      "\n",
      "Matriz Ga\n",
      "[[1.]\n",
      " [0.]\n",
      " [0.]\n",
      " [0.]]\n"
     ]
    }
   ],
   "source": [
    "Fa = np.block([ [   F,   np.zeros((n,1)) ],\n",
    "                [  -H,   0          ]])\n",
    "\n",
    "Ga = np.block([[G], [0]])\n",
    "\n",
    "print(\"\\nMatriz Fa\")\n",
    "print(Fa)\n",
    "print(\"\\nMatriz Ga\")\n",
    "print(Ga)"
   ]
  },
  {
   "attachments": {},
   "cell_type": "markdown",
   "metadata": {},
   "source": [
    "\n",
    "Alocação de polos com integrador"
   ]
  },
  {
   "cell_type": "code",
   "execution_count": 73,
   "metadata": {},
   "outputs": [
    {
     "name": "stdout",
     "output_type": "stream",
     "text": [
      "\n",
      "Vetor Ka\n",
      "[[  12.57530414   73.94944946  132.40520506 -104.48666878]]\n",
      "\n",
      "Vetor K\n",
      "[[ 12.57530414  73.94944946 132.40520506]]\n",
      "\n",
      "Valor de Ki\n",
      "[-104.48666878]\n"
     ]
    }
   ],
   "source": [
    "Ka = ct.acker(Fa,Ga,polos_desejados)\n",
    "K = Ka[:,0:n]\n",
    "Ki = Ka[:,-1]\n",
    "\n",
    "print(\"\\nVetor Ka\")\n",
    "print(Ka)\n",
    "print(\"\\nVetor K\")\n",
    "print(K)\n",
    "print(\"\\nValor de Ki\")\n",
    "print(Ki)"
   ]
  },
  {
   "attachments": {},
   "cell_type": "markdown",
   "metadata": {},
   "source": [
    "Polos do observador serão reais e iguais, a um fator de 4 da parte real dos pólos dominantes:"
   ]
  },
  {
   "cell_type": "code",
   "execution_count": 56,
   "metadata": {},
   "outputs": [
    {
     "name": "stdout",
     "output_type": "stream",
     "text": [
      "Ganhos do observador. L = \n",
      "[[103.7216447 ]\n",
      " [ 20.65103684]\n",
      " [  2.96226306]]\n"
     ]
    }
   ],
   "source": [
    "po = 4*np.real(p)\n",
    "#print(po)\n",
    "L = ct.acker(F.T, H.T, [po]*n).T      # [po]*n = repete a lista n vezes, ou seja [po,po,po]\n",
    "print(\"Ganhos do observador. L = \")\n",
    "print(L)"
   ]
  },
  {
   "attachments": {},
   "cell_type": "markdown",
   "metadata": {},
   "source": [
    "4. Equações do controlador"
   ]
  },
  {
   "cell_type": "code",
   "execution_count": 57,
   "metadata": {},
   "outputs": [
    {
     "name": "stdout",
     "output_type": "stream",
     "text": [
      "<LinearIOSystem>: sys[61]\n",
      "Inputs (2): ['u[0]', 'u[1]']\n",
      "Outputs (1): ['y[0]']\n",
      "States (4): ['x[0]', 'x[1]', 'x[2]', 'x[3]']\n",
      "\n",
      "A = [[ -14.49095414 -136.25842982 -375.78527216    0.        ]\n",
      "     [   1.          -12.1634607   -48.40603036    0.        ]\n",
      "     [   0.           -0.74477294   -6.94354461    0.        ]\n",
      "     [   0.            0.            0.            0.        ]]\n",
      "\n",
      "B = [[103.7216447    0.        ]\n",
      "     [ 20.65103684   0.        ]\n",
      "     [  2.96226306   0.        ]\n",
      "     [ -1.           1.        ]]\n",
      "\n",
      "C = [[ -12.57530414  -73.94944946 -132.40520506  104.48666878]]\n",
      "\n",
      "D = [[0. 0.]]\n",
      "\n"
     ]
    }
   ],
   "source": [
    "Fc = np.block([[F-G@K-L@H, np.zeros((n,1))],[np.zeros((1,n+1))]])\n",
    "Gc = np.block([[L, np.zeros((n,1))],[np.array([-1,1])]])\n",
    "Hc = -Ka\n",
    "cont = ct.ss(Fc,Gc,Hc,0)\n",
    "print(cont)"
   ]
  },
  {
   "attachments": {},
   "cell_type": "markdown",
   "metadata": {},
   "source": [
    "Funções de transferência"
   ]
  },
  {
   "cell_type": "code",
   "execution_count": 58,
   "metadata": {},
   "outputs": [
    {
     "data": {
      "text/latex": [
       "$$\\begin{bmatrix}\\frac{-3328 s^3 - 1.727 \\times 10^{4} s^2 - 6.755 \\times 10^{4} s - 1.429 \\times 10^{5}}{s^4 + 33.6 s^3 + 461.5 s^2 + 1368 s + 5.002 \\times 10^{-12}}\\frac{104.5 s^3 + 3511 s^2 + 4.823 \\times 10^{4} s + 1.429 \\times 10^{5}}{s^4 + 33.6 s^3 + 461.5 s^2 + 1368 s + 5.002 \\times 10^{-12}}\\\\ \\end{bmatrix}$$"
      ],
      "text/plain": [
       "TransferFunction([[array([  -3328.16975006,  -17266.22365338,  -67550.85672083,\n",
       "       -142905.51303109]), array([1.04486669e+02, 3.51053886e+03, 4.82251112e+04, 1.42905513e+05])]], [[array([1.00000000e+00, 3.35979595e+01, 4.61543198e+02, 1.36769135e+03,\n",
       "       5.00222086e-12]), array([1.00000000e+00, 3.35979595e+01, 4.61543198e+02, 1.36769135e+03,\n",
       "       5.00222086e-12])]])"
      ]
     },
     "execution_count": 58,
     "metadata": {},
     "output_type": "execute_result"
    }
   ],
   "source": [
    "(ct.tf(cont))"
   ]
  },
  {
   "cell_type": "markdown",
   "metadata": {},
   "source": [
    "# QUESTÃO 4"
   ]
  },
  {
   "attachments": {},
   "cell_type": "markdown",
   "metadata": {},
   "source": [
    "\n",
    "5. Simulação"
   ]
  },
  {
   "cell_type": "code",
   "execution_count": 59,
   "metadata": {},
   "outputs": [
    {
     "name": "stdout",
     "output_type": "stream",
     "text": [
      "_____Eigenvalue______ Damping___ Frequency_\n",
      "    -1.752     +2.39j     0.5912      2.963\n",
      "    -1.752     -2.39j     0.5912      2.963\n",
      "    -7.009                     1      7.009\n",
      "    -7.008 +0.001401j          1      7.008\n",
      "    -7.008 -0.001401j          1      7.008\n",
      "    -7.006                     1      7.006\n",
      "     -3.98                     1       3.98\n",
      "\n",
      "[-7.00770439+0.j         -7.00747546+0.00013217j -7.00747546-0.00013217j\n",
      " -3.97962649+0.j        ]\n"
     ]
    },
    {
     "data": {
      "text/plain": [
       "{'RiseTime': 0.6865981149446818,\n",
       " 'SettlingTime': 2.157879789826143,\n",
       " 'SettlingMin': 0.9084986103995837,\n",
       " 'SettlingMax': 1.0887574088473662,\n",
       " 'Overshoot': 8.875740884736569,\n",
       " 'Undershoot': 0,\n",
       " 'Peak': 1.0887574088473662,\n",
       " 'PeakTime': 1.4908987638798805,\n",
       " 'SteadyStateValue': 1.0000000000000004}"
      ]
     },
     "execution_count": 59,
     "metadata": {},
     "output_type": "execute_result"
    }
   ],
   "source": [
    "Fmf = np.block([[F,-G@K,-G*Ki],[L@H,F-G@K-L@H,-G*Ki],[-H,np.zeros((1,n+1))]])\n",
    "Gmf = np.block([[np.zeros((2*n,1))],[1]])\n",
    "Hmf_y = np.block([[H,np.zeros((1,n+1))]])\n",
    "Hmf_u = np.block([[-Ka,np.zeros((1,n))]])\n",
    "Jmf = 0\n",
    "MF_y = ct.ss(Fmf,Gmf,Hmf_y,Jmf)\n",
    "MF_u = ct.ss(Fmf,Gmf,Hmf_u,Jmf)\n",
    "#print(MF)\n",
    "T=(ct.damp(MF_y))\n",
    "print(\"\")\n",
    "\n",
    "print(ct.zeros(MF_y))\n",
    "ct.step_info(MF_y)"
   ]
  },
  {
   "attachments": {},
   "cell_type": "markdown",
   "metadata": {},
   "source": [
    "Os requisitos de projeto foram atendidos, podemos ver que existe dois pólos com frequencia natural igual a 5 vezes a frequencia natual de malha aberta, wn=8.71 e tanta o sobresinal é menor que 10%."
   ]
  },
  {
   "cell_type": "code",
   "execution_count": 60,
   "metadata": {},
   "outputs": [],
   "source": [
    "ts = 4/abs(np.real(p))\n",
    "t,y = ct.step_response(MF_y,3*ts)\n",
    "t,u = ct.step_response(MF_u,3*ts)\n"
   ]
  },
  {
   "attachments": {},
   "cell_type": "markdown",
   "metadata": {},
   "source": [
    "Sinais simulados"
   ]
  },
  {
   "cell_type": "code",
   "execution_count": 61,
   "metadata": {},
   "outputs": [
    {
     "data": {
      "image/png": "[encoded data removed]",
      "text/plain": [
       "<Figure size 640x480 with 1 Axes>"
      ]
     },
     "metadata": {},
     "output_type": "display_data"
    }
   ],
   "source": [
    "\n",
    "plt.plot(t, y)\n",
    "np.max(y)\n",
    "plt.xlabel(\"Tempo s\")\n",
    "plt.ylabel(\"Amplitude\")\n",
    "plt.grid()\n",
    "plt.show()"
   ]
  },
  {
   "cell_type": "code",
   "execution_count": 62,
   "metadata": {},
   "outputs": [
    {
     "data": {
      "image/png": "[encoded data removed]",
      "text/plain": [
       "<Figure size 640x480 with 1 Axes>"
      ]
     },
     "metadata": {},
     "output_type": "display_data"
    }
   ],
   "source": [
    "np.max(y)\n",
    "plt.plot(t,u)\n",
    "plt.xlabel(\"Tempo s\")\n",
    "plt.ylabel(\"Amplitude\")\n",
    "plt.grid()\n",
    "plt.show()"
   ]
  }
 ],
 "metadata": {
  "kernelspec": {
   "display_name": "Python 3.9.12 ('base')",
   "language": "python",
   "name": "python3"
  },
  "language_info": {
   "codemirror_mode": {
    "name": "ipython",
    "version": 3
   },
   "file_extension": ".py",
   "mimetype": "text/x-python",
   "name": "python",
   "nbconvert_exporter": "python",
   "pygments_lexer": "ipython3",
   "version": "3.10.8"
  },
  "orig_nbformat": 4,
  "vscode": {
   "interpreter": {
    "hash": "3e3763a57b4ffe0d06e963ec4b7f8ef3a748cbfdb342037439726ee83e94c05b"
   }
  }
 },
 "nbformat": 4,
 "nbformat_minor": 2
}
