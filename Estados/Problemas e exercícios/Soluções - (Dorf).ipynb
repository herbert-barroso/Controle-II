{
 "cells": [
  {
   "attachments": {},
   "cell_type": "markdown",
   "metadata": {},
   "source": [
    "# Roteiro de estudo com exercícios"
   ]
  },
  {
   "attachments": {},
   "cell_type": "markdown",
   "metadata": {},
   "source": [
    "## **P11.10**"
   ]
  },
  {
   "attachments": {},
   "cell_type": "markdown",
   "metadata": {},
   "source": [
    "$$\n",
    "G(s) = \\frac{1}{s^2}\n",
    "$$\n",
    "\n",
    "$$\n",
    "x_1(t) = y(t)\n",
    "$$\n",
    "\n",
    "$$\n",
    "u = -2x_2-x_1\n",
    "$$"
   ]
  },
  {
   "attachments": {},
   "cell_type": "markdown",
   "metadata": {},
   "source": [
    "*Solução:*\n",
    "\n",
    "$$\n",
    "\\dot{\\mathbf{x}} = \\left[\\begin{array}{cc}\n",
    "0&1\\\\0&0\\end{array}\\right]\\mathbf{x} + \\left[\\begin{array}{cc}\n",
    "0\\\\1\\end{array}\\right]u\n",
    "$$\n",
    "\n",
    "$$\n",
    "\\mathbf{K} = \\left[\\begin{array}{c} 1 &2 \\end{array}\\right]\n",
    "$$\n",
    "\n",
    "Equação característica: $|s\\mathbf{I-A+BK}|= (s+1)^2$ "
   ]
  },
  {
   "attachments": {},
   "cell_type": "markdown",
   "metadata": {},
   "source": [
    "Resolvendo a equação para as condições $x_1(0)=0$ e $x_2(0)=1$:\n",
    "$$\\begin{align}\n",
    "\\dot{\\mathbf{x}} &= \\left[\\begin{array}{cc}\n",
    "0&1\\\\-1&-2\\end{array}\\right]\\mathbf{x}\\\\\n",
    "\\Rightarrow \\mathbf{X}(s)&= \\left[\\begin{array}{cc}\n",
    "s&-1\\\\1&s+2\\end{array}\\right]^{-1}\\mathbf{x}(0)\\\\\n",
    "\\Rightarrow X_1(s)&= \\frac{1}{(s+1)^2} \\Rightarrow x_1(t) = t\\,e^{-t}u_0(t)\\\\\n",
    "\\Rightarrow X_2(s)&= \\frac{s}{(s+1)^2} \\Rightarrow x_2(t) = (1-t)\\,e^{-t}u_0(t)\n",
    "\\end{align}$$"
   ]
  },
  {
   "attachments": {},
   "cell_type": "markdown",
   "metadata": {},
   "source": [
    "**Proposta de estudo:** \n",
    "\n",
    "Verifique todos os resultados  \n",
    "Obtenha os resultados usando Python  \n",
    "Utilize $G(s)=\\frac{1}{(s+a)^2}$, com $a$ aleatório.  \n",
    "Randomize $\\mathbf{K}$ e as condições iniciais. "
   ]
  },
  {
   "attachments": {},
   "cell_type": "markdown",
   "metadata": {},
   "source": [
    "## **P11.11**"
   ]
  },
  {
   "attachments": {},
   "cell_type": "markdown",
   "metadata": {},
   "source": [
    "$$\n",
    "    G(s) = \\frac{1}{s^2+5s+4}\n",
    "$$\n",
    "\n",
    "$$\n",
    "t_s^{2\\%} \\leq 1,\\quad M_p=1\\%\n",
    "$$"
   ]
  },
  {
   "cell_type": "code",
   "execution_count": 1,
   "metadata": {},
   "outputs": [],
   "source": [
    "import numpy as np\n",
    "import control as ct\n",
    "from numpy import log,sqrt,pi"
   ]
  },
  {
   "cell_type": "code",
   "execution_count": 115,
   "metadata": {},
   "outputs": [],
   "source": [
    "A = np.array([[-5,-4],[1,0]])\n",
    "B = np.array([[1],[0]])"
   ]
  },
  {
   "cell_type": "code",
   "execution_count": 116,
   "metadata": {},
   "outputs": [
    {
     "data": {
      "text/plain": [
       "[(-3.912023005428146+2.668735842145727j),\n",
       " (-3.912023005428146-2.668735842145727j)]"
      ]
     },
     "execution_count": 116,
     "metadata": {},
     "output_type": "execute_result"
    }
   ],
   "source": [
    "Mp = 1e-2\n",
    "ts = 1\n",
    "xi = -log(Mp)/sqrt(pi**2+log(Mp)**2)\n",
    "sigma = -log(0.02)/ts\n",
    "wn = sigma/xi\n",
    "s = -sigma + 1j*wn*sqrt(1-xi**2)\n",
    "p = [s, np.conjugate(s)]\n",
    "p"
   ]
  },
  {
   "cell_type": "code",
   "execution_count": 117,
   "metadata": {},
   "outputs": [
    {
     "name": "stdout",
     "output_type": "stream",
     "text": [
      "[[ 2.32404601 18.42607499]]\n"
     ]
    }
   ],
   "source": [
    "K = ct.acker(A,B,p)\n",
    "print(K)"
   ]
  },
  {
   "attachments": {},
   "cell_type": "markdown",
   "metadata": {},
   "source": [
    "**Estudo:**\n",
    "- Explique o código\n",
    "- Refaça com critérios de projeto diferentes, mantendo o sistema. Analise o que ocorre com os ganhos e justifique.\n",
    "- Refaça o projeto com perturbações no sistema.. Verifique o que acontece com os ganhos. "
   ]
  },
  {
   "attachments": {},
   "cell_type": "markdown",
   "metadata": {},
   "source": [
    "## **P11.12**\n",
    "\n",
    "*Solução:*"
   ]
  },
  {
   "cell_type": "code",
   "execution_count": 118,
   "metadata": {},
   "outputs": [
    {
     "data": {
      "text/latex": [
       "$$\\frac{10}{s^5 + 3 s^4 + 4 s^3 + 2 s^2}$$"
      ],
      "text/plain": [
       "TransferFunction(array([10]), array([1., 3., 4., 2., 0., 0.]))"
      ]
     },
     "execution_count": 118,
     "metadata": {},
     "output_type": "execute_result"
    }
   ],
   "source": [
    "den = np.convolve(np.poly([0,0,-1]),[1,2,2])\n",
    "num = 10\n",
    "G = ct.tf(num,den)\n",
    "G"
   ]
  },
  {
   "cell_type": "code",
   "execution_count": 119,
   "metadata": {},
   "outputs": [
    {
     "name": "stdout",
     "output_type": "stream",
     "text": [
      "A = [[-3. -4. -2. -0. -0.]\n",
      "     [ 1.  0.  0.  0.  0.]\n",
      "     [ 0.  1.  0.  0.  0.]\n",
      "     [ 0.  0.  1.  0.  0.]\n",
      "     [ 0.  0.  0.  1.  0.]]\n",
      "\n",
      "B = [[1.]\n",
      "     [0.]\n",
      "     [0.]\n",
      "     [0.]\n",
      "     [0.]]\n",
      "\n",
      "C = [[ 0.  0.  0.  0. 10.]]\n",
      "\n",
      "D = [[0.]]\n",
      "\n"
     ]
    }
   ],
   "source": [
    "sys = ct.tf2ss(G)\n",
    "print(sys)"
   ]
  },
  {
   "cell_type": "code",
   "execution_count": 120,
   "metadata": {},
   "outputs": [
    {
     "data": {
      "text/plain": [
       "1.0"
      ]
     },
     "execution_count": 120,
     "metadata": {},
     "output_type": "execute_result"
    }
   ],
   "source": [
    "np.linalg.det(ct.ctrb(sys.A,sys.B))"
   ]
  },
  {
   "cell_type": "code",
   "execution_count": 121,
   "metadata": {},
   "outputs": [
    {
     "data": {
      "text/plain": [
       "100000.0000000002"
      ]
     },
     "execution_count": 121,
     "metadata": {},
     "output_type": "execute_result"
    }
   ],
   "source": [
    "np.linalg.det(ct.obsv(sys.A,sys.C))"
   ]
  },
  {
   "attachments": {},
   "cell_type": "markdown",
   "metadata": {},
   "source": [
    "Sistema controlável e observável"
   ]
  },
  {
   "attachments": {},
   "cell_type": "markdown",
   "metadata": {},
   "source": [
    "**Estudo:**\n",
    "- Explique o código\n",
    "- O que seria necessário para o sistema perder controlabilidade ou observabilidade?\n",
    "- Exemplifique e demonstre um caso em que a controlabilidade ou a observabilidade é perdida"
   ]
  },
  {
   "attachments": {},
   "cell_type": "markdown",
   "metadata": {},
   "source": [
    "## **P11.13**"
   ]
  },
  {
   "cell_type": "code",
   "execution_count": 122,
   "metadata": {},
   "outputs": [],
   "source": [
    "import sympy as sp"
   ]
  },
  {
   "cell_type": "code",
   "execution_count": 123,
   "metadata": {},
   "outputs": [],
   "source": [
    "k, s = sp.symbols(['k','s'])\n",
    "G = k/(s*(+70))\n",
    "sol = sp.solve(sp.Eq((s*G).subs(s,0),35),k)\n"
   ]
  },
  {
   "cell_type": "code",
   "execution_count": 124,
   "metadata": {},
   "outputs": [
    {
     "data": {
      "text/latex": [
       "$$\\frac{2450}{s^2 + 70 s}$$"
      ],
      "text/plain": [
       "TransferFunction(array([2450.]), array([ 1., 70.,  0.]))"
      ]
     },
     "execution_count": 124,
     "metadata": {},
     "output_type": "execute_result"
    }
   ],
   "source": [
    "num = float(k.subs(k,sol[0]))\n",
    "den = np.poly([0,-70])\n",
    "G = ct.tf(num,den)\n",
    "G"
   ]
  },
  {
   "cell_type": "code",
   "execution_count": 125,
   "metadata": {},
   "outputs": [
    {
     "data": {
      "text/plain": [
       "[(35.56384550389224-35.563845503892246j),\n",
       " (35.56384550389224+35.563845503892246j)]"
      ]
     },
     "execution_count": 125,
     "metadata": {},
     "output_type": "execute_result"
    }
   ],
   "source": [
    "xi = 1/sqrt(2)\n",
    "ts = 0.11\n",
    "sigma = log(0.02)/ts\n",
    "wn = sigma/xi\n",
    "s = -sigma+1j*wn*sqrt(1-xi**2)\n",
    "p = [s, np.conjugate(s)]\n",
    "p"
   ]
  },
  {
   "cell_type": "code",
   "execution_count": 126,
   "metadata": {},
   "outputs": [
    {
     "data": {
      "text/plain": [
       "array([[ 0.00000000e+00,  0.00000000e+00,  1.00000000e+00,\n",
       "        -7.11276910e+01,  2.52957421e+03]])"
      ]
     },
     "execution_count": 126,
     "metadata": {},
     "output_type": "execute_result"
    }
   ],
   "source": [
    "K = ct.acker(sys.A,sys.B,p)\n",
    "K"
   ]
  },
  {
   "attachments": {},
   "cell_type": "markdown",
   "metadata": {},
   "source": [
    "**Estudo**\n",
    "\n",
    "- Explique o código\n",
    "- Randomize o sistema, sem alterar os critérios.\n",
    "- O que seria necessário fazer para diminuir os ganhos?\n",
    "- Simule uma resposta rampa para esse sistema e confira se o resultado para $K_v$ é coerente. "
   ]
  },
  {
   "attachments": {},
   "cell_type": "markdown",
   "metadata": {},
   "source": [
    "## **P11.14**\n",
    "\n",
    "Tente resolver solo"
   ]
  },
  {
   "attachments": {},
   "cell_type": "markdown",
   "metadata": {},
   "source": [
    "## **P11.15**"
   ]
  },
  {
   "cell_type": "code",
   "execution_count": 127,
   "metadata": {},
   "outputs": [],
   "source": [
    "A = np.diag([-1, -2,-3])\n",
    "B = np.array([[1,1,0]]).T\n",
    "C = np.array([[1,0,2]])"
   ]
  },
  {
   "cell_type": "code",
   "execution_count": 128,
   "metadata": {},
   "outputs": [],
   "source": [
    "from numpy.linalg import det, inv"
   ]
  },
  {
   "cell_type": "code",
   "execution_count": 129,
   "metadata": {},
   "outputs": [
    {
     "data": {
      "text/plain": [
       "0.0"
      ]
     },
     "execution_count": 129,
     "metadata": {},
     "output_type": "execute_result"
    }
   ],
   "source": [
    "det(ct.ctrb(A,B))"
   ]
  },
  {
   "cell_type": "code",
   "execution_count": 130,
   "metadata": {},
   "outputs": [
    {
     "data": {
      "text/plain": [
       "0.0"
      ]
     },
     "execution_count": 130,
     "metadata": {},
     "output_type": "execute_result"
    }
   ],
   "source": [
    "det(ct.obsv(A,C))"
   ]
  },
  {
   "attachments": {},
   "cell_type": "markdown",
   "metadata": {},
   "source": [
    "Sistema não-controlável e não-observável"
   ]
  },
  {
   "attachments": {},
   "cell_type": "markdown",
   "metadata": {},
   "source": [
    "**Estudo**:\n",
    "- A resposta é intuitivamente óbvia. Por quê?\n",
    "- O que seria necessário para o sistema ser controlável ou observável?"
   ]
  },
  {
   "attachments": {},
   "cell_type": "markdown",
   "metadata": {},
   "source": [
    "## **P11.17**"
   ]
  },
  {
   "cell_type": "code",
   "execution_count": 131,
   "metadata": {},
   "outputs": [],
   "source": [
    "from sympy import ImmutableMatrix as matriz\n",
    "a,s = sp.symbols(['a','s'])\n",
    "G = (s+a)/(s**4+5*s**3+10*s**2+10*s+4)\n",
    "A = matriz([[-5,-10,-10,4],[1,0,0,0],[0,1,0,0],[0,0,1,0]])\n",
    "B = matriz([[1,0,0,0]]).T\n",
    "C = matriz([[0,0,1,a]])\n"
   ]
  },
  {
   "cell_type": "code",
   "execution_count": 132,
   "metadata": {},
   "outputs": [
    {
     "data": {
      "text/latex": [
       "$\\displaystyle a^{4} - 5 a^{3} + 10 a^{2} - 10 a - 4$"
      ],
      "text/plain": [
       "a**4 - 5*a**3 + 10*a**2 - 10*a - 4"
      ]
     },
     "execution_count": 132,
     "metadata": {},
     "output_type": "execute_result"
    }
   ],
   "source": [
    "Obs = matriz(sp.BlockMatrix([[C],[C@A],[C@A@A],[C@A@A@A]]))\n",
    "Obs.det()"
   ]
  },
  {
   "cell_type": "code",
   "execution_count": 133,
   "metadata": {},
   "outputs": [],
   "source": [
    "sol = sp.solve(Obs.det())"
   ]
  },
  {
   "cell_type": "code",
   "execution_count": 134,
   "metadata": {},
   "outputs": [
    {
     "data": {
      "text/plain": [
       "[1.19576674823247 - 1.78788003838438*I,\n",
       " 1.19576674823247 + 1.78788003838438*I,\n",
       " 2.90599245353874,\n",
       " -0.297525950003686]"
      ]
     },
     "execution_count": 134,
     "metadata": {},
     "output_type": "execute_result"
    }
   ],
   "source": [
    "[x.evalf() for x in sol]"
   ]
  },
  {
   "attachments": {},
   "cell_type": "markdown",
   "metadata": {},
   "source": [
    "O sistema é não observável se $a\\approx 2.906$ ou $a\\approx -0.2975$."
   ]
  },
  {
   "attachments": {},
   "cell_type": "markdown",
   "metadata": {},
   "source": [
    "**Estudo:**\n",
    "\n",
    "- Repita a análise usando forma canônica de observador\n",
    "- Por que não foi verificada a matriz de controlabilidade também?\n",
    "- Repita a análise posicionando $a$ em outro local da função de transferência e substituindo no numerador por um valor arbitrário. "
   ]
  },
  {
   "attachments": {},
   "cell_type": "markdown",
   "metadata": {},
   "source": [
    "## **P11.19**"
   ]
  },
  {
   "attachments": {},
   "cell_type": "markdown",
   "metadata": {},
   "source": [
    "As equações de estado são:\n",
    "\n",
    "$$\\begin{align}\n",
    "\\dot{x}_1 &= -2x_1+r+3x_2\\\\\n",
    "\\dot{x}_2 &= x_1+r\\\\\n",
    "y &= x_1\n",
    "\\end{align}$$"
   ]
  },
  {
   "cell_type": "code",
   "execution_count": 135,
   "metadata": {},
   "outputs": [],
   "source": [
    "A = np.array([[-2,3],[1,0]])\n",
    "B = np.array([[1,1]]).T\n",
    "C = np.array([[1,0]])"
   ]
  },
  {
   "cell_type": "code",
   "execution_count": 136,
   "metadata": {},
   "outputs": [
    {
     "data": {
      "text/plain": [
       "0.0"
      ]
     },
     "execution_count": 136,
     "metadata": {},
     "output_type": "execute_result"
    }
   ],
   "source": [
    "det(ct.ctrb(A,B))"
   ]
  },
  {
   "cell_type": "code",
   "execution_count": 137,
   "metadata": {},
   "outputs": [
    {
     "data": {
      "text/plain": [
       "2.9999999999999996"
      ]
     },
     "execution_count": 137,
     "metadata": {},
     "output_type": "execute_result"
    }
   ],
   "source": [
    "det(ct.obsv(A,C))"
   ]
  },
  {
   "attachments": {},
   "cell_type": "markdown",
   "metadata": {},
   "source": [
    "Sistema controlável e observável"
   ]
  },
  {
   "attachments": {},
   "cell_type": "markdown",
   "metadata": {},
   "source": [
    "**Estudo:**\n",
    "\n",
    "- Repita o problema mudando valores numéricos do sistema\n",
    "- Repita o problema mudando as linhas do diagrama, a posição ou sinais de entrada de somadores."
   ]
  },
  {
   "attachments": {},
   "cell_type": "markdown",
   "metadata": {},
   "source": [
    "## **P11.20**"
   ]
  },
  {
   "cell_type": "code",
   "execution_count": 138,
   "metadata": {},
   "outputs": [],
   "source": [
    "A = matriz([[-0.05, -6, 0, 0],\n",
    "            [-1e-3, -0.15, 0, 0],\n",
    "            [1,0,0,13],\n",
    "            [0,1,0,0]])\n",
    "B = matriz([[-0.2, 0.03,0,0]]).T"
   ]
  },
  {
   "attachments": {},
   "cell_type": "markdown",
   "metadata": {},
   "source": [
    "$$\n",
    "\\begin{align}\n",
    "\\begin{array}{c|ccc}\n",
    "s^4 & 1 & \\alpha_2 & \\alpha_0\\\\\n",
    "s^3 & \\alpha_3 & \\alpha_1 & 0\\\\\n",
    "s^2 & b_1 & \\alpha_0 & 0\\\\\n",
    "s^1 & b_2 & 0\\\\\n",
    "s^0 & \\alpha_0\n",
    "\\end{array}\n",
    "\\end{align}\n",
    "$$\n",
    "\n",
    "$$\n",
    "\\begin{align*}\n",
    "    \\alpha_2 &=0.0015-0.21k_1-0.2k_3\\\\\n",
    "    \\alpha_3 &=0.2-0.2k_1\\\\\n",
    "    \\alpha_1 &=0.18k_3\\\\\n",
    "    \\alpha_0 &=0.0221k_3\\\\\n",
    "    b_1 &=\\frac{\\alpha_3\\alpha_2-\\alpha_1}{\\alpha_3}\\\\\n",
    "    b_2 &=\\frac{\\alpha_1b_1-\\alpha_3\\alpha_0}{b_1} \n",
    "\\end{align*}\n",
    "$$"
   ]
  },
  {
   "attachments": {},
   "cell_type": "markdown",
   "metadata": {},
   "source": [
    "## **P11.22**"
   ]
  },
  {
   "attachments": {},
   "cell_type": "markdown",
   "metadata": {},
   "source": [
    "<center> <img src='./figs/P11.22.svg'> </center>"
   ]
  },
  {
   "attachments": {},
   "cell_type": "markdown",
   "metadata": {},
   "source": [
    "$$\n",
    "\\begin{align*}\n",
    "    \\dot{x}_1 &= -0.4x_1+x_2\\\\\n",
    "    \\dot{x}_2 &= u - x_1\n",
    "\\end{align*}\n",
    "$$\n"
   ]
  },
  {
   "cell_type": "code",
   "execution_count": 171,
   "metadata": {},
   "outputs": [
    {
     "data": {
      "image/png": "[encoded data removed]",
      "text/plain": [
       "<Figure size 1600x500 with 1 Axes>"
      ]
     },
     "metadata": {},
     "output_type": "display_data"
    }
   ],
   "source": [
    "A = np.array([[-0.4, 1],[-1,0]])\n",
    "B = np.array([[0,1]]).T\n",
    "C = np.array([[1,0]])\n",
    "sys = ct.ss(A,B,C,0)\n",
    "resp = ct.step_response(sys,30)\n",
    "from matplotlib import pyplot as plt\n",
    "plt.figure(figsize=(16,5))\n",
    "plt.plot(resp.t,resp.outputs)\n",
    "plt.grid()\n",
    "plt.xlabel('Tempo (seg)')\n",
    "plt.ylabel('Saída')\n",
    "plt.show()"
   ]
  },
  {
   "cell_type": "code",
   "execution_count": 155,
   "metadata": {},
   "outputs": [
    {
     "name": "stdout",
     "output_type": "stream",
     "text": [
      "_____Eigenvalue______ Damping___ Frequency_\n",
      "      -0.2   +0.9798j        0.2          1\n",
      "      -0.2   -0.9798j        0.2          1\n"
     ]
    },
    {
     "data": {
      "text/plain": [
       "(array([1., 1.]), array([0.2, 0.2]), array([-0.2+0.9797959j, -0.2-0.9797959j]))"
      ]
     },
     "execution_count": 155,
     "metadata": {},
     "output_type": "execute_result"
    }
   ],
   "source": [
    "ct.damp(sys)"
   ]
  },
  {
   "cell_type": "code",
   "execution_count": 172,
   "metadata": {},
   "outputs": [
    {
     "name": "stdout",
     "output_type": "stream",
     "text": [
      "K =  [[14.47381123  5.39558964]]\n",
      "N =  17.63204708931469\n"
     ]
    }
   ],
   "source": [
    "#b\n",
    "Mp = 5e-2\n",
    "xi = -log(Mp)/sqrt(pi**2+log(Mp)**2)\n",
    "ts = 1.35\n",
    "sigma = -log(2e-2)/ts\n",
    "wn = sigma/xi\n",
    "s = -sigma+1j*wn*sqrt(1-xi**2)\n",
    "p = [s, np.conjugate(s)]\n",
    "K = ct.acker(A,B,p)\n",
    "print('K = ', K)\n",
    "N = 1/(C@inv(B@K-A)@B)[0,0]\n",
    "print('N = ', N)\n"
   ]
  },
  {
   "cell_type": "code",
   "execution_count": 157,
   "metadata": {},
   "outputs": [
    {
     "name": "stdout",
     "output_type": "stream",
     "text": [
      "_____Eigenvalue______ Damping___ Frequency_\n",
      "    -2.898    +3.039j     0.6901      4.199\n",
      "    -2.898    -3.039j     0.6901      4.199\n"
     ]
    },
    {
     "data": {
      "text/plain": [
       "(array([4.19905312, 4.19905312]),\n",
       " array([0.69010673, 0.69010673]),\n",
       " array([-2.89779482+3.03888668j, -2.89779482-3.03888668j]))"
      ]
     },
     "execution_count": 157,
     "metadata": {},
     "output_type": "execute_result"
    }
   ],
   "source": [
    "# c\n",
    "Amf = A-B@K\n",
    "Bmf = B*N\n",
    "Cmf = C\n",
    "mf = ct.ss(Amf,Bmf,Cmf,0)\n",
    "resp_mf = ct.step_response(mf,5)\n",
    "ct.damp(mf)"
   ]
  },
  {
   "cell_type": "code",
   "execution_count": 158,
   "metadata": {},
   "outputs": [
    {
     "data": {
      "image/png": "[encoded data removed]",
      "text/plain": [
       "<Figure size 1600x500 with 1 Axes>"
      ]
     },
     "metadata": {},
     "output_type": "display_data"
    }
   ],
   "source": [
    "from matplotlib import pyplot as plt\n",
    "plt.figure(figsize=(16,5))\n",
    "plt.plot(resp_mf.t,resp_mf.outputs)\n",
    "plt.grid()\n",
    "plt.xlabel('Tempo (seg)')\n",
    "plt.ylabel('Saída')\n",
    "plt.show()"
   ]
  },
  {
   "cell_type": "code",
   "execution_count": 178,
   "metadata": {},
   "outputs": [
    {
     "data": {
      "text/plain": [
       "[<matplotlib.lines.Line2D at 0x2b65155e950>]"
      ]
     },
     "execution_count": 178,
     "metadata": {},
     "output_type": "execute_result"
    },
    {
     "data": {
      "image/png": "[encoded data removed]",
      "text/plain": [
       "<Figure size 640x480 with 1 Axes>"
      ]
     },
     "metadata": {},
     "output_type": "display_data"
    }
   ],
   "source": [
    "x = resp_mf.states\n",
    "r = np.ones(resp_mf.t.size)\n",
    "u = -K@x + N*r\n",
    "plt.plot(resp_mf.t, u.T)"
   ]
  },
  {
   "attachments": {},
   "cell_type": "markdown",
   "metadata": {},
   "source": [
    "**Estudo**\n",
    "- Desenhe o diagrama de blocos que representa a estratégia de controle implementada\n",
    "- Calcule e analise o sinal de controle da simulação executada\n",
    "- Como seria o projeto caso o sistema dado fosse considerado em malha aberta? Quais seriam as diferenças de projeto e de resultado?"
   ]
  },
  {
   "attachments": {},
   "cell_type": "markdown",
   "metadata": {},
   "source": [
    "## **PA11.1**"
   ]
  },
  {
   "attachments": {},
   "cell_type": "markdown",
   "metadata": {},
   "source": [
    "Vamos fazer o projeto para considerando a entrada $U(s)/K$, assim ele fica independente de $K$, que pode ser ajustado em malha fechada, caso necessário. As equações de estado ficam:\n",
    "$$\n",
    "\\begin{align*}\n",
    "    \\dot{x}_1 &= x_2\\\\\n",
    "    \\dot{x}_2 &= 2x_3 - x_2\\\\\n",
    "    \\dot{x}_3 &=u - 4x_3\n",
    "\\end{align*}\n",
    "$$"
   ]
  },
  {
   "cell_type": "code",
   "execution_count": 179,
   "metadata": {},
   "outputs": [],
   "source": [
    "A = np.array([[0,1,0],[0,-1,2],[0,0,-3]])\n",
    "B = np.array([[0,0,1]]).T\n",
    "C = np.array([[1,0,0]])"
   ]
  },
  {
   "cell_type": "code",
   "execution_count": 180,
   "metadata": {},
   "outputs": [
    {
     "data": {
      "text/plain": [
       "(array([ 0., -1., -3.]),\n",
       " array([[ 1.        , -0.70710678,  0.22941573],\n",
       "        [ 0.        ,  0.70710678, -0.6882472 ],\n",
       "        [ 0.        ,  0.        ,  0.6882472 ]]))"
      ]
     },
     "execution_count": 180,
     "metadata": {},
     "output_type": "execute_result"
    }
   ],
   "source": [
    "np.linalg.eig(A)"
   ]
  },
  {
   "cell_type": "code",
   "execution_count": 160,
   "metadata": {},
   "outputs": [
    {
     "name": "stdout",
     "output_type": "stream",
     "text": [
      "[[50.27423889 22.14251687 11.64087432]]\n"
     ]
    }
   ],
   "source": [
    "Mp = 3e-2\n",
    "xi = -log(Mp)/sqrt(pi**2+log(Mp)**2)\n",
    "wn = 3   # Arbitrário, com base nos pólos de MA\n",
    "sigma = xi*wn\n",
    "s = -sigma + 1j *wn* sqrt(1-xi**2)\n",
    "p = [s, np.conjugate(s), -5*sigma]\n",
    "K = ct.acker(A,B,p)\n",
    "print(K)"
   ]
  },
  {
   "attachments": {},
   "cell_type": "markdown",
   "metadata": {},
   "source": [
    "**Estudo**\n",
    "- Simule o sistema em malha fechada para uma entrada degrau\n",
    "- Por que o erro de regime não é zero se o sistema possui um integrador?\n",
    "- Proponha uma mudança no projeto para zerar o erro de regime\n",
    "- Randomize os parâmetros do sistema e repita a solução\n"
   ]
  },
  {
   "attachments": {},
   "cell_type": "markdown",
   "metadata": {},
   "source": [
    "## **PA11.2**"
   ]
  },
  {
   "attachments": {},
   "cell_type": "markdown",
   "metadata": {},
   "source": [
    "Tente resolver solo\n",
    "\n",
    "**Estudo**\n",
    "- Utilize formas de controlador e de observador\n",
    "- Repita um projeto para cancelar pelo menos um zero do sistema\n",
    "- Randomize o problema e repita. "
   ]
  },
  {
   "attachments": {},
   "cell_type": "markdown",
   "metadata": {},
   "source": [
    "## **PA11.3**"
   ]
  },
  {
   "attachments": {},
   "cell_type": "markdown",
   "metadata": {},
   "source": [
    "Tente resolver solo. A solução é trivial."
   ]
  },
  {
   "attachments": {},
   "cell_type": "markdown",
   "metadata": {},
   "source": [
    "## **PA11.4**"
   ]
  },
  {
   "attachments": {},
   "cell_type": "markdown",
   "metadata": {},
   "source": [
    "Tente resolver solo.\n",
    "\n",
    "**Estudo**\n",
    "- Estude a controlabilidade do sistema."
   ]
  },
  {
   "attachments": {},
   "cell_type": "markdown",
   "metadata": {},
   "source": [
    "## **PA11.5**"
   ]
  },
  {
   "attachments": {},
   "cell_type": "markdown",
   "metadata": {},
   "source": [
    "Equações de estado:\n",
    "\n",
    "$$\n",
    "\\begin{align*}\n",
    "    \\dot{x}_1 &= x_2-3x_1\\\\\n",
    "    \\dot{x}_2 &= x_3-2x_2\\\\\n",
    "    \\dot{x}_3 &= u-4x_1\\\\\n",
    "    y &= x_1\n",
    "\\end{align*}\n",
    "$$"
   ]
  },
  {
   "cell_type": "code",
   "execution_count": 161,
   "metadata": {},
   "outputs": [],
   "source": [
    "A = matriz([[-3,1,0],[0,-2,1],[-4,0,0]])\n",
    "B = matriz([[0,0,1]]).T\n",
    "C = matriz([[1,0,0]])\n",
    "k2,k3,s = sp.symbols(['k_2','k_3','s'])\n",
    "a,b = sp.symbols(['a','b'])\n",
    "p = [-4,-5,-b]"
   ]
  },
  {
   "cell_type": "code",
   "execution_count": 162,
   "metadata": {},
   "outputs": [
    {
     "data": {
      "text/latex": [
       "$\\displaystyle b s^{2} + 9 b s + 20 b + s^{3} + 9 s^{2} + 20 s$"
      ],
      "text/plain": [
       "b*s**2 + 9*b*s + 20*b + s**3 + 9*s**2 + 20*s"
      ]
     },
     "execution_count": 162,
     "metadata": {},
     "output_type": "execute_result"
    }
   ],
   "source": [
    "alfa = sp.prod([s-p[n] for n in range(len(p))])\n",
    "alfa = alfa.expand()\n",
    "alfa"
   ]
  },
  {
   "cell_type": "code",
   "execution_count": 163,
   "metadata": {},
   "outputs": [
    {
     "data": {
      "text/latex": [
       "$\\displaystyle 3 k_{2} + 6 k_{3} + s^{3} + s^{2} \\left(k_{3} + 5\\right) + s \\left(k_{2} + 5 k_{3} + 6\\right) + 5$"
      ],
      "text/plain": [
       "3*k_2 + 6*k_3 + s**3 + s**2*(k_3 + 5) + s*(k_2 + 5*k_3 + 6) + 5"
      ]
     },
     "execution_count": 163,
     "metadata": {},
     "output_type": "execute_result"
    }
   ],
   "source": [
    "K = matriz([[1,k2,k3]])\n",
    "Amf = A-B@K\n",
    "alfa_mf = Amf.charpoly(s).as_expr()\n",
    "alfa_mf"
   ]
  },
  {
   "cell_type": "code",
   "execution_count": 164,
   "metadata": {},
   "outputs": [
    {
     "data": {
      "text/latex": [
       "$\\displaystyle 3 k_{2} + 6 k_{3} + 5 = 20 b$"
      ],
      "text/plain": [
       "Eq(3*k_2 + 6*k_3 + 5, 20*b)"
      ]
     },
     "metadata": {},
     "output_type": "display_data"
    },
    {
     "data": {
      "text/latex": [
       "$\\displaystyle k_{2} + 5 k_{3} + 6 = 9 b + 20$"
      ],
      "text/plain": [
       "Eq(k_2 + 5*k_3 + 6, 9*b + 20)"
      ]
     },
     "metadata": {},
     "output_type": "display_data"
    },
    {
     "data": {
      "text/latex": [
       "$\\displaystyle k_{3} + 5 = b + 9$"
      ],
      "text/plain": [
       "Eq(k_3 + 5, b + 9)"
      ]
     },
     "metadata": {},
     "output_type": "display_data"
    }
   ],
   "source": [
    "eqs = [sp.Eq(alfa_mf.coeff(s,n),alfa.coeff(s,n)) for n in [0,1,2]]\n",
    "for n in range(len(eqs)): display(eqs[n])"
   ]
  },
  {
   "cell_type": "code",
   "execution_count": 165,
   "metadata": {},
   "outputs": [
    {
     "data": {
      "text/plain": [
       "{b: 11/2, k_2: 16, k_3: 19/2}"
      ]
     },
     "execution_count": 165,
     "metadata": {},
     "output_type": "execute_result"
    }
   ],
   "source": [
    "sol = sp.solve(eqs)\n",
    "sol"
   ]
  },
  {
   "attachments": {},
   "cell_type": "markdown",
   "metadata": {},
   "source": [
    "Como $b=11/2=5.5$, a solução é válida nas condições do problema. "
   ]
  },
  {
   "cell_type": "code",
   "execution_count": 166,
   "metadata": {},
   "outputs": [
    {
     "data": {
      "text/latex": [
       "$\\displaystyle 110$"
      ],
      "text/plain": [
       "110"
      ]
     },
     "execution_count": 166,
     "metadata": {},
     "output_type": "execute_result"
    }
   ],
   "source": [
    "# Determinação de kp\n",
    "Kp = 1/(C @ (B@K-A).subs(sol).inv() @ B)[0]\n",
    "Kp"
   ]
  },
  {
   "attachments": {},
   "cell_type": "markdown",
   "metadata": {},
   "source": [
    "**Estudo**\n",
    "- Explique o código\n",
    "- Caso o valor de $b$ não estivesse nas condições do problema, o que poderia ser feito? Demonstre"
   ]
  }
 ],
 "metadata": {
  "kernelspec": {
   "display_name": "Python 3",
   "language": "python",
   "name": "python3"
  },
  "language_info": {
   "codemirror_mode": {
    "name": "ipython",
    "version": 3
   },
   "file_extension": ".py",
   "mimetype": "text/x-python",
   "name": "python",
   "nbconvert_exporter": "python",
   "pygments_lexer": "ipython3",
   "version": "3.11.1"
  },
  "orig_nbformat": 4
 },
 "nbformat": 4,
 "nbformat_minor": 2
}
